{
 "cells": [
  {
   "cell_type": "code",
   "execution_count": 1,
   "metadata": {},
   "outputs": [
    {
     "name": "stdout",
     "output_type": "stream",
     "text": [
      "                 PlayerID   Fatigue  Soreness    Desire  Irritability  \\\n",
      "PlayerID         1.000000  0.014598 -0.023021  0.147680     -0.017140   \n",
      "Fatigue          0.014598  1.000000  0.519904  0.580195      0.481475   \n",
      "Soreness        -0.023021  0.519904  1.000000  0.425858      0.329233   \n",
      "Desire           0.147680  0.580195  0.425858  1.000000      0.451112   \n",
      "Irritability    -0.017140  0.481475  0.329233  0.451112      1.000000   \n",
      "SleepHours       0.145862  0.185780  0.024464  0.067461      0.088848   \n",
      "SleepQuality     0.056373  0.525361  0.281776  0.311769      0.402843   \n",
      "MonitoringScore  0.052164  0.846338  0.694283  0.745488      0.688553   \n",
      "USG              0.231833 -0.057746 -0.055170  0.058046     -0.026415   \n",
      "\n",
      "                 SleepHours  SleepQuality  MonitoringScore       USG  \n",
      "PlayerID           0.145862      0.056373         0.052164  0.231833  \n",
      "Fatigue            0.185780      0.525361         0.846338 -0.057746  \n",
      "Soreness           0.024464      0.281776         0.694283 -0.055170  \n",
      "Desire             0.067461      0.311769         0.745488  0.058046  \n",
      "Irritability       0.088848      0.402843         0.688553 -0.026415  \n",
      "SleepHours         1.000000      0.281798         0.184492  0.021657  \n",
      "SleepQuality       0.281798      1.000000         0.710016  0.005358  \n",
      "MonitoringScore    0.184492      0.710016         1.000000 -0.020129  \n",
      "USG                0.021657      0.005358        -0.020129  1.000000  \n"
     ]
    }
   ],
   "source": [
    "import numpy as np\n",
    "import pandas as pd\n",
    "import matplotlib.pyplot as plt\n",
    "from mpl_toolkits.mplot3d import Axes3D\n",
    "\n",
    "import k_means as km\n",
    "import lin_reg as lg\n",
    "\n",
    "'''\n",
    "#Initialize data: \n",
    "x1_data = np.random.normal(size=50)\n",
    "x2_data = np.random.normal(size=50)\n",
    "x3_data = np.random.normal(size=50)\n",
    "x4_data = np.random.normal(size=50)\n",
    "\n",
    "df = {}\n",
    "df[\"x1\"] = x1_data\n",
    "df[\"x2\"] = x2_data\n",
    "df[\"x3\"] = x3_data\n",
    "df[\"x4\"] = x4_data\n",
    "df = pd.DataFrame(data=df)\n",
    "'''\n",
    "\n",
    "df = pd.read_csv(\"./###\", encoding = 'utf8')\n",
    "\n",
    "#看attribute两两的correlation，一般x1或者x2啥的就是每个数据的attribute，比如name啊age啊之类的\n",
    "print(df.corr())"
   ]
  },
  {
   "cell_type": "code",
   "execution_count": null,
   "metadata": {},
   "outputs": [],
   "source": [
    "#Pairwaise plotting\n",
    "ndf = df.filter([str(df.columns[8]), str(df.columns[9]), \n",
    "                 str(df.columns[10]), str(df.columns[11]), str(df.columns[12]), str(df.columns[13])])\n",
    "\n",
    "#ndf = ndf[df['###'] == \"###\"]\n",
    "\n",
    "lg.plot2var(ndf)\n",
    "\n",
    "#Plot three variables if necessary...\n",
    "#lg.plot3var(df)"
   ]
  },
  {
   "cell_type": "code",
   "execution_count": null,
   "metadata": {},
   "outputs": [],
   "source": [
    "#k-means clustering\n",
    "\n",
    "k = 3\n",
    "\n",
    "x = 9\n",
    "y = 13\n",
    "\n",
    "centroids = {}\n",
    "for i in range(0, k):\n",
    "    centroids[i] = [np.random.uniform(min(df.iloc[:,x]), max(df.iloc[:,x])), np.random.uniform(min(df.iloc[:,y]), max(df.iloc[:,y]))]\n",
    "\n",
    "'''\n",
    "for i in range(0, k):\n",
    "    centroids[i] = [np.random.randint(min(df.iloc[:,0]), max(df.iloc[:,0]+1)), \n",
    "    np.random.randint(min(df.iloc[:,1]), max(df.iloc[:,1]+1)), \n",
    "    np.random.randint(min(df.iloc[:,2]), max(df.iloc[:,2]+1))]\n",
    "'''    \n",
    "\n",
    "ndf = df.filter([str(df.columns[x]), str(df.columns[y])])\n",
    "\n",
    "ndf['color'] = ['k']*len(df.iloc[:,0])\n",
    "ndf['closest'] = [-1]*len(df.iloc[:,0])\n",
    "\n",
    "#call function\n",
    "km.k_means(ndf, centroids)\n",
    "\n",
    "#3d k-means ckustering if necessary。。\n",
    "#km.k_means3d(df, centroids)"
   ]
  },
  {
   "cell_type": "code",
   "execution_count": null,
   "metadata": {},
   "outputs": [],
   "source": [
    "#linear regreassion\n",
    "from scipy import optimize\n",
    "\n",
    "def poly(x, b0, b1, b2):\n",
    "    return b0 + b1*x + b2*x**2\n",
    "\n",
    "b, b_covariance = optimize.curve_fit(poly, df.iloc[:, 8], df.iloc[:, 9])\n",
    "print(b)\n",
    "plt.figure()\n",
    "plt.scatter(df.iloc[:, 8], df.iloc[:, 9], label='Data')\n",
    "plt.plot(df.iloc[:, 8], poly(df.iloc[:, 8], b[0], b[1], b[2]), label='Fitted function')\n",
    "plt.show()\n",
    "\n",
    "#lg.multiVarLinReg(lg.lin_reg2d, [df.iloc[:, 9], df.iloc[:, 10]], \"2d\")\n",
    "#lg.multiVarLinReg(lg.lin_reg3d, [df.iloc[:, 0], df.iloc[:, 1], df.iloc[:, 2]], \"3d\")\n",
    "#lg.multiVarLinReg(lg.lin_reg4d, [df.iloc[:, 0], df.iloc[:, 1], df.iloc[:, 2], df.iloc[:, 3]], \"4d\")"
   ]
  },
  {
   "cell_type": "code",
   "execution_count": null,
   "metadata": {},
   "outputs": [],
   "source": []
  }
 ],
 "metadata": {
  "kernelspec": {
   "display_name": "Python 3",
   "language": "python",
   "name": "python3"
  },
  "language_info": {
   "codemirror_mode": {
    "name": "ipython",
    "version": 3
   },
   "file_extension": ".py",
   "mimetype": "text/x-python",
   "name": "python",
   "nbconvert_exporter": "python",
   "pygments_lexer": "ipython3",
   "version": "3.6.8"
  }
 },
 "nbformat": 4,
 "nbformat_minor": 2
}
